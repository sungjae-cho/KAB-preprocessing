{
 "cells": [
  {
   "cell_type": "markdown",
   "metadata": {},
   "source": [
    "# Renaming the files\n",
    "\n",
    "Things to do:\n",
    "- 남→m\n",
    "- 여→w\n",
    "- Abbr. of the dataset: KAB\n",
    "- Format: `\"kab-{speaker}_{sentence_id}\"`\n",
    "    - E.g. `kab-m1_fairy-0001.wav`\n",
    "    \n",
    "Procedure\n",
    "1. Read all wav files in the KAB directory.\n",
    "1. Move those files to the `wav` directory, and rename them simultaneously.\n",
    "1. Clean up all useless directories."
   ]
  },
  {
   "cell_type": "code",
   "execution_count": 1,
   "metadata": {},
   "outputs": [],
   "source": [
    "from tqdm import tqdm\n",
    "import os"
   ]
  },
  {
   "cell_type": "markdown",
   "metadata": {},
   "source": [
    "## 1. Read all wav files in the KAB directory."
   ]
  },
  {
   "cell_type": "code",
   "execution_count": 2,
   "metadata": {},
   "outputs": [
    {
     "name": "stdout",
     "output_type": "stream",
     "text": [
      "len(wav_paths) 58561\n"
     ]
    }
   ],
   "source": [
    "rDirectory = '/data2/sungjaecho/data_tts/KAB/KAB/wav/'\n",
    "\n",
    "wav_paths = list()\n",
    "for root, dirnames, filenames in os.walk(rDirectory):\n",
    "    for filename in filenames:\n",
    "        if filename[-4:] == '.wav':\n",
    "            rf = os.path.join(root, filename)\n",
    "            wav_paths.append(rf)\n",
    "print(\"len(wav_paths)\", len(wav_paths))"
   ]
  },
  {
   "cell_type": "code",
   "execution_count": 3,
   "metadata": {},
   "outputs": [
    {
     "data": {
      "text/plain": [
       "['/data2/sungjaecho/data_tts/KAB/KAB/wav/여1_자기계발2/1818.wav',\n",
       " '/data2/sungjaecho/data_tts/KAB/KAB/wav/여1_자기계발2/1382.wav',\n",
       " '/data2/sungjaecho/data_tts/KAB/KAB/wav/여1_자기계발2/1172.wav',\n",
       " '/data2/sungjaecho/data_tts/KAB/KAB/wav/여1_자기계발2/824.wav',\n",
       " '/data2/sungjaecho/data_tts/KAB/KAB/wav/여1_자기계발2/288.wav',\n",
       " '/data2/sungjaecho/data_tts/KAB/KAB/wav/여1_자기계발2/1290.wav',\n",
       " '/data2/sungjaecho/data_tts/KAB/KAB/wav/여1_자기계발2/335.wav',\n",
       " '/data2/sungjaecho/data_tts/KAB/KAB/wav/여1_자기계발2/290.wav',\n",
       " '/data2/sungjaecho/data_tts/KAB/KAB/wav/여1_자기계발2/857.wav',\n",
       " '/data2/sungjaecho/data_tts/KAB/KAB/wav/여1_자기계발2/308.wav']"
      ]
     },
     "execution_count": 3,
     "metadata": {},
     "output_type": "execute_result"
    }
   ],
   "source": [
    "wav_paths[:10]"
   ]
  },
  {
   "cell_type": "markdown",
   "metadata": {},
   "source": [
    "## 2. Move those files to the wav directory, and rename them simultaneously."
   ]
  },
  {
   "cell_type": "code",
   "execution_count": 4,
   "metadata": {},
   "outputs": [],
   "source": [
    "def ko2en(str_ko):\n",
    "    str_ko = str_ko.replace('남', 'm')\n",
    "    str_ko = str_ko.replace('여', 'w')\n",
    "    str_ko = str_ko.replace('자기계발', 'self')\n",
    "    str_ko = str_ko.replace('뉴스', 'news')\n",
    "    str_ko = str_ko.replace('소설', 'novel')\n",
    "    str_ko = str_ko.replace('동화', 'fairy')\n",
    "    str_ko = str_ko.replace('어학', 'lang')\n",
    "    return str_ko"
   ]
  },
  {
   "cell_type": "code",
   "execution_count": 5,
   "metadata": {},
   "outputs": [
    {
     "name": "stderr",
     "output_type": "stream",
     "text": [
      "100%|██████████| 58561/58561 [00:01<00:00, 45626.21it/s]\n"
     ]
    }
   ],
   "source": [
    "for wav_path in tqdm(wav_paths):\n",
    "    dir_spk_wav, wav = os.path.split(wav_path[len(rDirectory):])\n",
    "    spk_ko, book_ko = dir_spk_wav.split('_')\n",
    "    wav_id, _ = os.path.splitext(wav)\n",
    "    spk_en = 'kab-' + ko2en(spk_ko)\n",
    "    book_en = ko2en(book_ko)\n",
    "    sentence_id = \"{}-{:04d}\".format(book_en, int(wav_id))\n",
    "    new_wav = \"{}_{}.wav\".format(spk_en, sentence_id)\n",
    "    new_wav_path = os.path.join(rDirectory, new_wav)\n",
    "    os.rename(wav_path, new_wav_path)"
   ]
  },
  {
   "cell_type": "markdown",
   "metadata": {},
   "source": [
    "## 3. Clean up all useless directories."
   ]
  },
  {
   "cell_type": "code",
   "execution_count": 22,
   "metadata": {},
   "outputs": [],
   "source": [
    "dirs_in_dir_wav = [f for f in os.listdir(rDirectory) if os.path.isdir(os.path.join(rDirectory, f))]"
   ]
  },
  {
   "cell_type": "code",
   "execution_count": 24,
   "metadata": {},
   "outputs": [],
   "source": [
    "for d in dirs_in_dir_wav:\n",
    "    os.rmdir(os.path.join(rDirectory, d))"
   ]
  },
  {
   "cell_type": "code",
   "execution_count": 26,
   "metadata": {},
   "outputs": [
    {
     "data": {
      "text/plain": [
       "[]"
      ]
     },
     "execution_count": 26,
     "metadata": {},
     "output_type": "execute_result"
    }
   ],
   "source": [
    "[f for f in os.listdir(rDirectory) if os.path.isdir(os.path.join(rDirectory, f))]"
   ]
  }
 ],
 "metadata": {
  "kernelspec": {
   "display_name": "Python 3",
   "language": "python",
   "name": "python3"
  },
  "language_info": {
   "codemirror_mode": {
    "name": "ipython",
    "version": 3
   },
   "file_extension": ".py",
   "mimetype": "text/x-python",
   "name": "python",
   "nbconvert_exporter": "python",
   "pygments_lexer": "ipython3",
   "version": "3.7.4"
  }
 },
 "nbformat": 4,
 "nbformat_minor": 4
}
